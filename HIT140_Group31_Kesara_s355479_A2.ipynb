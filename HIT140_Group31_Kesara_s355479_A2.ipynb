{
 "cells": [
  {
   "cell_type": "markdown",
   "id": "fe5fa126",
   "metadata": {},
   "source": [
    "<h3><b>Load and Merge Datasets</b></h3>"
   ]
  },
  {
   "cell_type": "code",
   "execution_count": 1,
   "id": "215cb1d4",
   "metadata": {},
   "outputs": [],
   "source": [
    "import pandas as pd\n",
    "import numpy as np\n",
    "import matplotlib.pyplot as plt\n",
    "import seaborn as sns\n",
    "from scipy import stats\n",
    "from math import sqrt\n",
    "\n",
    "# Load the datasets\n",
    "dataset1 = pd.read_csv('dataset1.csv')  # Demographic data\n",
    "dataset2 = pd.read_csv('dataset2.csv')  # Screen time data\n",
    "dataset3 = pd.read_csv('dataset3.csv')  # Well-being indicators\n",
    "\n",
    "# Merge dataset1 (demographics), dataset2 (screen time), and dataset3 (well-being) on 'ID'\n",
    "merged_data = pd.merge(pd.merge(dataset1, dataset2, on='ID'), dataset3, on='ID')\n",
    "\n",
    "# Set Seaborn style for more appealing visualizations\n",
    "sns.set(style=\"whitegrid\")\n"
   ]
  },
  {
   "cell_type": "markdown",
   "id": "eca063de",
   "metadata": {},
   "source": [
    "Defining Screen Time Columns"
   ]
  },
  {
   "cell_type": "code",
   "execution_count": 2,
   "id": "18faf7c8",
   "metadata": {},
   "outputs": [],
   "source": [
    "screen_time_columns = ['C_we', 'C_wk', 'G_we', 'G_wk', 'S_we', 'S_wk', 'T_we', 'T_wk']"
   ]
  },
  {
   "cell_type": "markdown",
   "id": "a11cbc4e",
   "metadata": {},
   "source": [
    "<h3><b>Descriptive Statistical Analysis</b></h3>"
   ]
  },
  {
   "cell_type": "markdown",
   "id": "0c3764d8",
   "metadata": {},
   "source": [
    "<h4><b>Investigation 2: Descriptive Statistics for Well-being Indicators</b></h4>"
   ]
  },
  {
   "cell_type": "markdown",
   "id": "c2be02eb",
   "metadata": {},
   "source": [
    "<b>Propose:</b> Investigate the trends in well-being indicators based on self-reported responses"
   ]
  },
  {
   "cell_type": "markdown",
   "id": "fa91cff6",
   "metadata": {},
   "source": [
    "<b>Justify:</b> Understanding well-being trends can provide insights into mental and emotional health in relation to screen time."
   ]
  },
  {
   "cell_type": "markdown",
   "id": "dadfab41",
   "metadata": {},
   "source": [
    "<b>Key Findings:</b> Positive well-being scores for indicators like 'Feeling Loved' and 'Cheerfulness.'"
   ]
  },
  {
   "cell_type": "markdown",
   "id": "1bbf0674",
   "metadata": {},
   "source": [
    "<h4><b>Execution and Results</b></h4>"
   ]
  },
  {
   "cell_type": "markdown",
   "id": "e23b0204",
   "metadata": {},
   "source": [
    "Define well-being indicator columns\n"
   ]
  },
  {
   "cell_type": "code",
   "execution_count": 3,
   "id": "93fbebc7",
   "metadata": {},
   "outputs": [],
   "source": [
    "wellbeing_columns = ['Optm', 'Usef', 'Relx', 'Intp', 'Engs', 'Dealpr', 'Thcklr', 'Goodme', 'Clsep', 'Conf', 'Mkmind', 'Loved', 'Intthg', 'Cheer']"
   ]
  },
  {
   "cell_type": "code",
   "execution_count": null,
   "id": "3fe45c41",
   "metadata": {},
   "outputs": [],
   "source": [
    "wellbeing_stats = {}\n",
    "for col in wellbeing_columns:\n",
    "    print(f\"Calculating statistics for {col}:\")\n",
    "    \n",
    "    # Mean\n",
    "    mean_value = np.mean(merged_data[col])\n",
    "    print(f\"  Mean: {mean_value:.2f}\")\n",
    "    \n",
    "    # Median\n",
    "    median_value = np.median(merged_data[col])\n",
    "    print(f\"  Median: {median_value:.2f}\")\n",
    "    \n",
    "    # Standard Deviation\n",
    "    std_value = np.std(merged_data[col])\n",
    "    print(f\"  Standard Deviation: {std_value:.2f}\")\n",
    "    \n",
    "    # Interquartile Range (IQR)\n",
    "    iqr_value = np.percentile(merged_data[col], 75) - np.percentile(merged_data[col], 25)\n",
    "    print(f\"  Interquartile Range (IQR): {iqr_value:.2f}\\n\")\n",
    "    \n",
    "    # Store stats in dictionary\n",
    "    wellbeing_stats[col] = {\n",
    "        'mean': mean_value,\n",
    "        'median': median_value,\n",
    "        'std': std_value,\n",
    "        'iqr': iqr_value\n",
    "    }"
   ]
  },
  {
   "cell_type": "markdown",
   "id": "3a1c1d41",
   "metadata": {},
   "source": [
    "<h3><b>Visualization</b></h3>"
   ]
  },
  {
   "cell_type": "code",
   "execution_count": null,
   "id": "9fd68e09",
   "metadata": {},
   "outputs": [],
   "source": [
    "# Visualization 1: Pairplot for Well-being Indicators\n",
    "print(\"Creating pairplot for well-being indicators...\")\n",
    "plt.figure(figsize=(10, 6))\n",
    "sns.pairplot(merged_data[wellbeing_columns], diag_kind=\"kde\", corner=True)\n",
    "plt.suptitle(\"Pairplot of Well-being Indicators\", y=1.02, fontsize=16)\n",
    "plt.show()"
   ]
  },
  {
   "cell_type": "markdown",
   "id": "4b4d2622",
   "metadata": {},
   "source": [
    "<h4><b>Additional Analysis</b></h4>"
   ]
  },
  {
   "cell_type": "code",
   "execution_count": null,
   "id": "8b097f45",
   "metadata": {},
   "outputs": [],
   "source": [
    "# Additional Analysis: Exploring screen time differences by deprivation status\n",
    "print(\"\\nAnalyzing screen time patterns based on deprivation status...\")\n",
    "deprivation_groups = merged_data.groupby('deprived')[screen_time_columns].mean()\n",
    "\n",
    "# Display mean screen time by deprivation status\n",
    "print(f\"\\nMean screen time by deprivation status:\")\n",
    "print(deprivation_groups)"
   ]
  },
  {
   "cell_type": "markdown",
   "id": "41fab37b",
   "metadata": {},
   "source": [
    "<h4><b>Visualization</b></h4>"
   ]
  },
  {
   "cell_type": "code",
   "execution_count": null,
   "id": "8f268c82",
   "metadata": {},
   "outputs": [],
   "source": [
    "# Visualization: Bar chart of average screen time by deprivation status\n",
    "print(\"\\nPlotting bar chart of average screen time by deprivation status...\")\n",
    "deprivation_groups.T.plot(kind='bar', figsize=(10, 6), title=\"Average Screen Time by Deprivation Status\")\n",
    "plt.ylabel(\"Average Screen Time (hours)\")\n",
    "plt.xticks(rotation=45)\n",
    "plt.tight_layout()\n",
    "plt.show()"
   ]
  }
 ],
 "metadata": {
  "kernelspec": {
   "display_name": "Python 3 (ipykernel)",
   "language": "python",
   "name": "python3"
  },
  "language_info": {
   "codemirror_mode": {
    "name": "ipython",
    "version": 3
   },
   "file_extension": ".py",
   "mimetype": "text/x-python",
   "name": "python",
   "nbconvert_exporter": "python",
   "pygments_lexer": "ipython3",
   "version": "3.12.4"
  }
 },
 "nbformat": 4,
 "nbformat_minor": 5
}
