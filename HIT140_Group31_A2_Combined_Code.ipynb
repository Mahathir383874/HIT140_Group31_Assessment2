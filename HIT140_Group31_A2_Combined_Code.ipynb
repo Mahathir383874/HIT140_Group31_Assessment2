{
 "cells": [
  {
   "cell_type": "markdown",
   "id": "fe5fa126",
   "metadata": {},
   "source": [
    "<h3><b>Load and Merge Datasets</b></h3>"
   ]
  },
  {
   "cell_type": "code",
   "execution_count": 1,
   "id": "215cb1d4",
   "metadata": {},
   "outputs": [],
   "source": [
    "import pandas as pd\n",
    "import numpy as np\n",
    "import matplotlib.pyplot as plt\n",
    "import seaborn as sns\n",
    "from scipy import stats\n",
    "from math import sqrt\n",
    "\n",
    "# Load the datasets\n",
    "dataset1 = pd.read_csv('dataset1.csv')  # Demographic data\n",
    "dataset2 = pd.read_csv('dataset2.csv')  # Screen time data\n",
    "dataset3 = pd.read_csv('dataset3.csv')  # Well-being indicators\n",
    "\n",
    "# Merge dataset1 (demographics), dataset2 (screen time), and dataset3 (well-being) on 'ID'\n",
    "merged_data = pd.merge(pd.merge(dataset1, dataset2, on='ID'), dataset3, on='ID')\n",
    "\n",
    "# Set Seaborn style for more appealing visualizations\n",
    "sns.set(style=\"whitegrid\")\n"
   ]
  },
  {
   "cell_type": "markdown",
   "id": "eca063de",
   "metadata": {},
   "source": [
    "Defining Screen Time Columns"
   ]
  },
  {
   "cell_type": "code",
   "execution_count": 2,
   "id": "18faf7c8",
   "metadata": {},
   "outputs": [],
   "source": [
    "screen_time_columns = ['C_we', 'C_wk', 'G_we', 'G_wk', 'S_we', 'S_wk', 'T_we', 'T_wk']"
   ]
  },
  {
   "cell_type": "markdown",
   "id": "a11cbc4e",
   "metadata": {},
   "source": [
    "<h3><b>Descriptive Statistical Analysis</b></h3>"
   ]
  },
  {
   "cell_type": "markdown",
   "id": "2f1b1f43",
   "metadata": {},
   "source": [
    "<h4><b>Investigation 1: Descriptive Statistics for Digital Screen Time</b></h4>"
   ]
  },
  {
   "cell_type": "markdown",
   "id": "6710ac11",
   "metadata": {},
   "source": [
    "<b>Propose:</b> Analyze and describe the general trends in digital screen time by gender and deprivation status \n"
   ]
  },
  {
   "cell_type": "markdown",
   "id": "7dd38a69",
   "metadata": {},
   "source": [
    "<b>Justify:</b> Understanding screen time patterns based on demographic factors like gender and deprivation status can reveal key insights into user behavior."
   ]
  },
  {
   "cell_type": "markdown",
   "id": "74e094cc",
   "metadata": {},
   "source": [
    "<h4><b>Execution and Results</b></h4>"
   ]
  },
  {
   "cell_type": "markdown",
   "id": "4027dac6",
   "metadata": {},
   "source": [
    "Execution based on gender"
   ]
  },
  {
   "cell_type": "code",
   "execution_count": null,
   "id": "8797e8b8",
   "metadata": {},
   "outputs": [],
   "source": [
    "# Analysis based on gender ---\n",
    "print(\"\\nAnalyzing screen time based on demographic factor: gender...\")\n",
    "gender_groups = merged_data.groupby('gender')[screen_time_columns].mean()\n",
    "\n",
    "# Display mean screen time by gender\n",
    "print(f\"\\nMean screen time by gender:\")\n",
    "print(gender_groups)\n",
    "\n",
    "# Visualization 1: Bar chart of average screen time by gender\n",
    "print(\"\\nPlotting bar chart of average screen time by gender...\")\n",
    "gender_groups.T.plot(kind='bar', figsize=(10, 6), title=\"Average Screen Time by Gender\")\n",
    "plt.ylabel(\"Average Screen Time (hours)\")\n",
    "plt.xticks(rotation=45)\n",
    "plt.tight_layout()\n",
    "plt.show()"
   ]
  },
  {
   "cell_type": "markdown",
   "id": "626b02d6",
   "metadata": {},
   "source": [
    "Execution based on deprivation status"
   ]
  },
  {
   "cell_type": "code",
   "execution_count": null,
   "id": "ea74d4ac",
   "metadata": {},
   "outputs": [],
   "source": [
    "print(\"\\nAnalyzing screen time based on deprivation status...\")\n",
    "deprivation_groups = merged_data.groupby('deprived')[screen_time_columns].mean()\n",
    "\n",
    "# Display mean screen time by deprivation status\n",
    "print(f\"\\nMean screen time by deprivation status:\")\n",
    "print(deprivation_groups)\n",
    "\n",
    "# Visualization 2: Bar chart of average screen time by deprivation status\n",
    "print(\"\\nPlotting bar chart of average screen time by deprivation status...\")\n",
    "deprivation_groups.T.plot(kind='bar', figsize=(10, 6), title=\"Average Screen Time by Deprivation Status\")\n",
    "plt.ylabel(\"Average Screen Time (hours)\")\n",
    "plt.xticks(rotation=45)\n",
    "plt.tight_layout()\n",
    "plt.show()"
   ]
  },
  {
   "cell_type": "markdown",
   "id": "1081881f",
   "metadata": {},
   "source": [
    "Calculate and display descriptive statistics"
   ]
  },
  {
   "cell_type": "code",
   "execution_count": null,
   "id": "251c9ee8",
   "metadata": {},
   "outputs": [],
   "source": [
    "screen_time_stats = {}\n",
    "for col in screen_time_columns:\n",
    "    print(f\"Calculating statistics for {col}:\")\n",
    "    \n",
    "    # Mean\n",
    "    mean_value = np.mean(merged_data[col])\n",
    "    print(f\"  Mean: {mean_value:.2f} hours\")\n",
    "    \n",
    "    # Median\n",
    "    median_value = np.median(merged_data[col])\n",
    "    print(f\"  Median: {median_value:.2f} hours\")\n",
    "    \n",
    "    # Standard Deviation\n",
    "    std_value = np.std(merged_data[col])\n",
    "    print(f\"  Standard Deviation: {std_value:.2f}\")\n",
    "    \n",
    "    # Interquartile Range (IQR)\n",
    "    iqr_value = np.percentile(merged_data[col], 75) - np.percentile(merged_data[col], 25)\n",
    "    print(f\"  Interquartile Range (IQR): {iqr_value:.2f}\\n\")\n",
    "    \n",
    "    # Store stats in dictionary\n",
    "    screen_time_stats[col] = {\n",
    "        'mean': mean_value,\n",
    "        'median': median_value,\n",
    "        'std': std_value,\n",
    "        'iqr': iqr_value\n",
    "    }\n",
    "\n",
    "# Visualization 3: Pairplot for Screen Time\n",
    "print(\"Creating pairplot for screen time data...\")\n",
    "plt.figure(figsize=(10, 6))\n",
    "sns.pairplot(merged_data[screen_time_columns], diag_kind=\"kde\", corner=True)\n",
    "plt.suptitle(\"Pairplot of Screen Time Activities (Weekday and Weekend)\", y=1.02, fontsize=16)\n",
    "plt.show()\n",
    "  "
   ]
  },
  {
   "cell_type": "markdown",
   "id": "0c3764d8",
   "metadata": {},
   "source": [
    "<h4><b>Investigation 2: Descriptive Statistics for Well-being Indicators</b></h4>"
   ]
  },
  {
   "cell_type": "markdown",
   "id": "c2be02eb",
   "metadata": {},
   "source": [
    "<b>Propose:</b> Investigate the trends in well-being indicators based on self-reported responses"
   ]
  },
  {
   "cell_type": "markdown",
   "id": "fa91cff6",
   "metadata": {},
   "source": [
    "<b>Justify:</b> Understanding well-being trends can provide insights into mental and emotional health in relation to screen time."
   ]
  },
  {
   "cell_type": "markdown",
   "id": "1bbf0674",
   "metadata": {},
   "source": [
    "<h4><b>Execution and Results</b></h4>"
   ]
  },
  {
   "cell_type": "markdown",
   "id": "e23b0204",
   "metadata": {},
   "source": [
    "Define well-being indicator columns\n"
   ]
  },
  {
   "cell_type": "code",
   "execution_count": 6,
   "id": "93fbebc7",
   "metadata": {},
   "outputs": [],
   "source": [
    "wellbeing_columns = ['Optm', 'Usef', 'Relx', 'Intp', 'Engs', 'Dealpr', 'Thcklr', 'Goodme', 'Clsep', 'Conf', 'Mkmind', 'Loved', 'Intthg', 'Cheer']"
   ]
  },
  {
   "cell_type": "code",
   "execution_count": null,
   "id": "3fe45c41",
   "metadata": {},
   "outputs": [],
   "source": [
    "wellbeing_stats = {}\n",
    "for col in wellbeing_columns:\n",
    "    print(f\"Calculating statistics for {col}:\")\n",
    "    \n",
    "    # Mean\n",
    "    mean_value = np.mean(merged_data[col])\n",
    "    print(f\"  Mean: {mean_value:.2f}\")\n",
    "    \n",
    "    # Median\n",
    "    median_value = np.median(merged_data[col])\n",
    "    print(f\"  Median: {median_value:.2f}\")\n",
    "    \n",
    "    # Standard Deviation\n",
    "    std_value = np.std(merged_data[col])\n",
    "    print(f\"  Standard Deviation: {std_value:.2f}\")\n",
    "    \n",
    "    # Interquartile Range (IQR)\n",
    "    iqr_value = np.percentile(merged_data[col], 75) - np.percentile(merged_data[col], 25)\n",
    "    print(f\"  Interquartile Range (IQR): {iqr_value:.2f}\\n\")\n",
    "    \n",
    "    # Store stats in dictionary\n",
    "    wellbeing_stats[col] = {\n",
    "        'mean': mean_value,\n",
    "        'median': median_value,\n",
    "        'std': std_value,\n",
    "        'iqr': iqr_value\n",
    "    }\n",
    "\n",
    "# Visualization 1: Pairplot for Well-being Indicators\n",
    "print(\"Creating pairplot for well-being indicators...\")\n",
    "plt.figure(figsize=(10, 6))\n",
    "sns.pairplot(merged_data[wellbeing_columns], diag_kind=\"kde\", corner=True)\n",
    "plt.suptitle(\"Pairplot of Well-being Indicators\", y=1.02, fontsize=16)\n",
    "plt.show()"
   ]
  },
  {
   "cell_type": "markdown",
   "id": "a4b7ed05",
   "metadata": {},
   "source": [
    "<h3><b>Inferential Statistical Analysis</b></h3>"
   ]
  },
  {
   "cell_type": "markdown",
   "id": "c473fcd0",
   "metadata": {},
   "source": [
    "<h4><b>Investigation 1: Inferential Analysis for Screen Time (T_we) vs Optimism (Optm)</b></h4>"
   ]
  },
  {
   "cell_type": "markdown",
   "id": "0a238526",
   "metadata": {},
   "source": [
    "<b>Propose:</b> Investigate the relationship between screen time on weekends and optimism levels"
   ]
  },
  {
   "cell_type": "markdown",
   "id": "748879a8",
   "metadata": {},
   "source": [
    "<b>Justify:</b> This analysis can determine if higher screen time correlates with lower optimism levels, providing insight into the impact of screen time on mental well-being."
   ]
  },
  {
   "cell_type": "markdown",
   "id": "e1b55021",
   "metadata": {},
   "source": [
    "<h4><b>Hypothesis Test</b></h4>"
   ]
  },
  {
   "cell_type": "markdown",
   "id": "df0c6919",
   "metadata": {},
   "source": [
    "<b>H0:</b> There is no significant difference between the means of weekend screen time and optimism."
   ]
  },
  {
   "cell_type": "markdown",
   "id": "517cb888",
   "metadata": {},
   "source": [
    "<b>H1:</b> There is a significant difference between the means of weekend screen time and optimism."
   ]
  },
  {
   "cell_type": "markdown",
   "id": "0210d4bd",
   "metadata": {},
   "source": [
    "<b>Step 1:</b> T-Test and P-Value"
   ]
  },
  {
   "cell_type": "code",
   "execution_count": null,
   "id": "34362906",
   "metadata": {},
   "outputs": [],
   "source": [
    "t_stat_optm, p_value_optm = stats.ttest_ind(merged_data['T_we'], merged_data['Optm'])"
   ]
  },
  {
   "cell_type": "markdown",
   "id": "bf56b0d5",
   "metadata": {},
   "source": [
    "<b>Step 2:</b> Z-Score Calculation"
   ]
  },
  {
   "cell_type": "code",
   "execution_count": null,
   "id": "1574b1bd",
   "metadata": {},
   "outputs": [],
   "source": [
    "mean_T_we = np.mean(merged_data['T_we'])\n",
    "std_T_we = np.std(merged_data['T_we'], ddof=1)\n",
    "mean_Optm = np.mean(merged_data['Optm'])\n",
    "std_Optm = np.std(merged_data['Optm'], ddof=1)\n",
    "n = len(merged_data)\n",
    "\n",
    "z_score_T_we_optm = (mean_T_we - mean_Optm) / (std_T_we / sqrt(n))"
   ]
  },
  {
   "cell_type": "markdown",
   "id": "b7acb40c",
   "metadata": {},
   "source": [
    "<b>Step 3:</b> Confidence Interval for T_we"
   ]
  },
  {
   "cell_type": "code",
   "execution_count": null,
   "id": "32dbebb4",
   "metadata": {},
   "outputs": [],
   "source": [
    "confidence_level = 0.95\n",
    "degrees_freedom = n - 1\n",
    "confidence_interval_T_we = stats.t.interval(confidence_level, degrees_freedom, mean_T_we, std_T_we / sqrt(n))"
   ]
  },
  {
   "cell_type": "markdown",
   "id": "c69032f1",
   "metadata": {},
   "source": [
    "<h3><b>Execution and Results</b></h3>"
   ]
  },
  {
   "cell_type": "code",
   "execution_count": null,
   "id": "0e9c6a53",
   "metadata": {},
   "outputs": [],
   "source": [
    "print(f\"\\nT-Test Results for Screen Time (Weekend) vs Optimism:\")\n",
    "print(f\"T-Statistic: {t_stat_optm}, P-Value: {p_value_optm}\")\n",
    "print(f\"Z-Score: {z_score_T_we_optm}\")\n",
    "print(f\"95% Confidence Interval for Screen Time (Weekend): {confidence_interval_T_we}\")"
   ]
  },
  {
   "cell_type": "markdown",
   "id": "1d6df339",
   "metadata": {},
   "source": [
    "<h4><b>Interpretation of Hypothesis Test</b></h4>"
   ]
  },
  {
   "cell_type": "code",
   "execution_count": null,
   "id": "dcd99b18",
   "metadata": {},
   "outputs": [],
   "source": [
    "if p_value_optm < 0.05:\n",
    "    print(\"Reject the null hypothesis (H0): There is a significant difference between weekend screen time and optimism.\")\n",
    "else:\n",
    "    print(\"Fail to reject the null hypothesis (H0): There is no significant difference between weekend screen time and optimism.\")"
   ]
  },
  {
   "cell_type": "markdown",
   "id": "8cf75f8b",
   "metadata": {},
   "source": [
    "<h3><b>Visualization</b></h3>"
   ]
  },
  {
   "cell_type": "code",
   "execution_count": null,
   "id": "5b25673c",
   "metadata": {},
   "outputs": [],
   "source": [
    "# Visualization: Scatter plot with regression line for T_we vs Optm\n",
    "plt.figure(figsize=(8, 5))\n",
    "sns.regplot(x=merged_data['T_we'], y=merged_data['Optm'], scatter_kws={\"color\": \"blue\"}, line_kws={\"color\": \"red\"})\n",
    "plt.title(\"Screen Time (Weekend) vs Optimism\")\n",
    "plt.xlabel(\"Screen Time (Weekend) in Hours\")\n",
    "plt.ylabel(\"Optimism Score\")\n",
    "plt.grid(True)\n",
    "plt.tight_layout()\n",
    "plt.show()"
   ]
  },
  {
   "cell_type": "markdown",
   "id": "6970cb65",
   "metadata": {},
   "source": [
    "<h4><b>Investigation 2: Inferential Analysis for Screen Time (T_we) vs Relaxation (Relx)</b></h4>"
   ]
  },
  {
   "cell_type": "markdown",
   "id": "37134662",
   "metadata": {},
   "source": [
    "<b>Propose:</b> Analyze the relationship between weekend screen time and relaxation levels"
   ]
  },
  {
   "cell_type": "markdown",
   "id": "3f072543",
   "metadata": {},
   "source": [
    "<b>Justify:</b> Relaxation is an important component of well-being. This analysis will help determine if higher weekend screen time impacts relaxation levels."
   ]
  },
  {
   "cell_type": "markdown",
   "id": "18ff6ec9",
   "metadata": {},
   "source": [
    "<h4><b>Hypothesis Test</b></h4>"
   ]
  },
  {
   "cell_type": "markdown",
   "id": "51e13f3c",
   "metadata": {},
   "source": [
    "<b>H0:</b> There is no significant difference between the means of weekend screen time and optimism."
   ]
  },
  {
   "cell_type": "markdown",
   "id": "63c53ebf",
   "metadata": {},
   "source": [
    "<b>H1:</b> There is a significant difference between the means of weekend screen time and optimism."
   ]
  },
  {
   "cell_type": "markdown",
   "id": "d3cebcfa",
   "metadata": {},
   "source": [
    "<b>Step 1:</b> T-Test and P-Value"
   ]
  },
  {
   "cell_type": "code",
   "execution_count": null,
   "id": "645226b7",
   "metadata": {},
   "outputs": [],
   "source": [
    "t_stat_relx, p_value_relx = stats.ttest_ind(merged_data['T_we'], merged_data['Relx'])"
   ]
  },
  {
   "cell_type": "markdown",
   "id": "9fbde398",
   "metadata": {},
   "source": [
    "<b>Step 2:</b> Z-Score Calculation"
   ]
  },
  {
   "cell_type": "code",
   "execution_count": null,
   "id": "0617955d",
   "metadata": {},
   "outputs": [],
   "source": [
    "mean_T_we = np.mean(merged_data['T_we'])\n",
    "std_T_we = np.std(merged_data['T_we'], ddof=1)\n",
    "mean_Relx = np.mean(merged_data['Relx'])\n",
    "std_Relx = np.std(merged_data['Relx'], ddof=1)\n",
    "n = len(merged_data)\n",
    "\n",
    "z_score_T_we_relx = (mean_T_we - mean_Relx) / (std_T_we / sqrt(n))"
   ]
  },
  {
   "cell_type": "markdown",
   "id": "7ebfe4f2",
   "metadata": {},
   "source": [
    "<b>Step 3:</b> Confidence Interval for T_we"
   ]
  },
  {
   "cell_type": "code",
   "execution_count": null,
   "id": "086107f2",
   "metadata": {},
   "outputs": [],
   "source": [
    "confidence_level = 0.95\n",
    "degrees_freedom = n - 1\n",
    "confidence_interval_relx = stats.t.interval(confidence_level, degrees_freedom, mean_Relx, std_Relx / sqrt(n))"
   ]
  },
  {
   "cell_type": "markdown",
   "id": "f736fb76",
   "metadata": {},
   "source": [
    "<h3><b>Execution and Results</b></h3>"
   ]
  },
  {
   "cell_type": "code",
   "execution_count": null,
   "id": "7a28cb34",
   "metadata": {},
   "outputs": [],
   "source": [
    "print(f\"\\nT-Test Results for Screen Time (Weekend) vs Relaxation:\")\n",
    "print(f\"T-Statistic: {t_stat_relx}, P-Value: {p_value_relx}\")\n",
    "print(f\"Z-Score: {z_score_T_we_relx}\")\n",
    "print(f\"95% Confidence Interval for Relaxation: {confidence_interval_relx}\")"
   ]
  },
  {
   "cell_type": "markdown",
   "id": "5aae91cf",
   "metadata": {},
   "source": [
    "<h4><b>Interpretation of Hypothesis Test</b></h4>"
   ]
  },
  {
   "cell_type": "code",
   "execution_count": null,
   "id": "09eb60ae",
   "metadata": {},
   "outputs": [],
   "source": [
    "if p_value_relx < 0.05:\n",
    "    print(\"Reject the null hypothesis (H0): There is a significant difference between weekend screen time and relaxation.\")\n",
    "else:\n",
    "    print(\"Fail to reject the null hypothesis (H0): There is no significant difference between weekend screen time and relaxation.\")"
   ]
  },
  {
   "cell_type": "markdown",
   "id": "58c85344",
   "metadata": {},
   "source": [
    "<h3><b>Visualization</b></h3>"
   ]
  },
  {
   "cell_type": "code",
   "execution_count": null,
   "id": "3fcd53b8",
   "metadata": {},
   "outputs": [],
   "source": [
    "# Visualization: Scatter plot with regression line for T_we vs Relx\n",
    "plt.figure(figsize=(8, 5))\n",
    "sns.regplot(x=merged_data['T_we'], y=merged_data['Relx'], scatter_kws={\"color\": \"green\"}, line_kws={\"color\": \"red\"})\n",
    "plt.title(\"Screen Time (Weekend) vs Relaxation\")\n",
    "plt.xlabel(\"Screen Time (Weekend) in Hours\")\n",
    "plt.ylabel(\"Relaxation Score\")\n",
    "plt.grid(True)\n",
    "plt.tight_layout()\n",
    "plt.show()\n",
    "\n",
    "# Visualization: Lineplot showing Screen Time vs Relaxation trend\n",
    "plt.figure(figsize=(10, 6))\n",
    "sns.lineplot(x=np.arange(len(merged_data)), y=merged_data['T_we'], label=\"Screen Time (Weekend)\", color='blue')\n",
    "sns.lineplot(x=np.arange(len(merged_data)), y=merged_data['Relx'], label=\"Relaxation Score\", color='green')\n",
    "plt.title(\"Lineplot of Screen Time (Weekend) vs Relaxation Score\", fontsize=16)\n",
    "plt.xlabel(\"Index\")\n",
    "plt.ylabel(\"Screen Time / Relaxation\")\n",
    "plt.legend()\n",
    "plt.grid(True)\n",
    "plt.tight_layout()\n",
    "plt.show()"
   ]
  },
  {
   "cell_type": "markdown",
   "id": "a34e9960",
   "metadata": {},
   "source": [
    "<h3><b>Optional Analysis</b></h3>"
   ]
  },
  {
   "cell_type": "markdown",
   "id": "bf65f850",
   "metadata": {},
   "source": [
    "<h4><b>Incorporating Demographic Factors</b></h4>"
   ]
  },
  {
   "cell_type": "markdown",
   "id": "fd4fb9ae",
   "metadata": {},
   "source": [
    "<b>Propose:</b> Explore screen time patterns based on gender and deprivation status"
   ]
  },
  {
   "cell_type": "markdown",
   "id": "b3923358",
   "metadata": {},
   "source": [
    "<b>Justify:</b> Demographic factors may influence screen time behaviors, and this could provide insights into behavior patterns across groups."
   ]
  },
  {
   "cell_type": "markdown",
   "id": "38b1ab3a",
   "metadata": {},
   "source": [
    "<h4><b>Execution and Results</b></h4>"
   ]
  },
  {
   "cell_type": "code",
   "execution_count": null,
   "id": "58c6787f",
   "metadata": {},
   "outputs": [],
   "source": [
    "# For example, we can examine screen time patterns based on gender\n",
    "print(\"\\nAnalyzing screen time based on demographic factor: gender...\")\n",
    "gender_groups = merged_data.groupby('gender')[screen_time_columns].mean()\n",
    "\n",
    "# Display mean screen time by gender\n",
    "print(f\"\\nMean screen time by gender:\")\n",
    "print(gender_groups)\n",
    "\n",
    "# Visualization 1: Bar chart of average screen time by gender\n",
    "print(\"\\nPlotting bar chart of average screen time by gender...\")\n",
    "gender_groups.T.plot(kind='bar', figsize=(10, 6), title=\"Average Screen Time by Gender\")\n",
    "plt.ylabel(\"Average Screen Time (hours)\")\n",
    "plt.xticks(rotation=45)\n",
    "plt.tight_layout()\n",
    "plt.show()\n",
    "\n",
    "# Additional Visualization: Box plot of screen time distribution by gender\n",
    "print(\"\\nPlotting box plot of screen time distribution by gender...\")\n",
    "plt.figure(figsize=(10, 6))\n",
    "for gender in [0, 1]:\n",
    "    plt.boxplot(merged_data[merged_data['gender'] == gender][screen_time_columns].values, \n",
    "                positions=np.arange(len(screen_time_columns)) + gender * 0.4, widths=0.4)\n",
    "plt.title(\"Screen Time Distribution by Gender\")\n",
    "plt.xticks(np.arange(len(screen_time_columns)), screen_time_columns, rotation=45)\n",
    "plt.tight_layout()\n",
    "plt.show()"
   ]
  },
  {
   "cell_type": "markdown",
   "id": "4b4d2622",
   "metadata": {},
   "source": [
    "<h4><b>Additional Analysis</b></h4>"
   ]
  },
  {
   "cell_type": "code",
   "execution_count": null,
   "id": "8b097f45",
   "metadata": {},
   "outputs": [],
   "source": [
    "# Additional Analysis: Exploring screen time differences by deprivation status\n",
    "print(\"\\nAnalyzing screen time patterns based on deprivation status...\")\n",
    "deprivation_groups = merged_data.groupby('deprived')[screen_time_columns].mean()\n",
    "\n",
    "# Display mean screen time by deprivation status\n",
    "print(f\"\\nMean screen time by deprivation status:\")\n",
    "print(deprivation_groups)"
   ]
  },
  {
   "cell_type": "markdown",
   "id": "41fab37b",
   "metadata": {},
   "source": [
    "<h4><b>Visualization</b></h4>"
   ]
  },
  {
   "cell_type": "code",
   "execution_count": null,
   "id": "8f268c82",
   "metadata": {},
   "outputs": [],
   "source": [
    "# Visualization: Bar chart of average screen time by deprivation status\n",
    "print(\"\\nPlotting bar chart of average screen time by deprivation status...\")\n",
    "deprivation_groups.T.plot(kind='bar', figsize=(10, 6), title=\"Average Screen Time by Deprivation Status\")\n",
    "plt.ylabel(\"Average Screen Time (hours)\")\n",
    "plt.xticks(rotation=45)\n",
    "plt.tight_layout()\n",
    "plt.show()"
   ]
  }
 ],
 "metadata": {
  "kernelspec": {
   "display_name": "Python 3 (ipykernel)",
   "language": "python",
   "name": "python3"
  },
  "language_info": {
   "codemirror_mode": {
    "name": "ipython",
    "version": 3
   },
   "file_extension": ".py",
   "mimetype": "text/x-python",
   "name": "python",
   "nbconvert_exporter": "python",
   "pygments_lexer": "ipython3",
   "version": "3.12.4"
  }
 },
 "nbformat": 4,
 "nbformat_minor": 5
}
