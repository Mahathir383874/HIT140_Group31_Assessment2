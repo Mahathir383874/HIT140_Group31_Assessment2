{
 "cells": [
  {
   "cell_type": "markdown",
   "id": "fe5fa126",
   "metadata": {},
   "source": [
    "<h3><b>Load and Merge Datasets</b></h3>"
   ]
  },
  {
   "cell_type": "code",
   "execution_count": 12,
   "id": "215cb1d4",
   "metadata": {},
   "outputs": [],
   "source": [
    "import pandas as pd\n",
    "import numpy as np\n",
    "import matplotlib.pyplot as plt\n",
    "import seaborn as sns\n",
    "from scipy import stats\n",
    "from math import sqrt\n",
    "\n",
    "# Load the datasets\n",
    "dataset1 = pd.read_csv('dataset1.csv')  # Demographic data\n",
    "dataset2 = pd.read_csv('dataset2.csv')  # Screen time data\n",
    "dataset3 = pd.read_csv('dataset3.csv')  # Well-being indicators\n",
    "\n",
    "# Merge dataset1 (demographics), dataset2 (screen time), and dataset3 (well-being) on 'ID'\n",
    "merged_data = pd.merge(pd.merge(dataset1, dataset2, on='ID'), dataset3, on='ID')\n",
    "\n",
    "# Set Seaborn style for more appealing visualizations\n",
    "sns.set(style=\"whitegrid\")\n"
   ]
  },
  {
   "cell_type": "markdown",
   "id": "eca063de",
   "metadata": {},
   "source": [
    "Defining Screen Time Columns"
   ]
  },
  {
   "cell_type": "code",
   "execution_count": 13,
   "id": "18faf7c8",
   "metadata": {},
   "outputs": [],
   "source": [
    "screen_time_columns = ['C_we', 'C_wk', 'G_we', 'G_wk', 'S_we', 'S_wk', 'T_we', 'T_wk']"
   ]
  },
  {
   "cell_type": "markdown",
   "id": "ea05572f",
   "metadata": {},
   "source": [
    "Define well-being indicator columns"
   ]
  },
  {
   "cell_type": "code",
   "execution_count": 14,
   "id": "ae8e38e8",
   "metadata": {},
   "outputs": [],
   "source": [
    "wellbeing_columns = ['Optm', 'Usef', 'Relx', 'Intp', 'Engs', 'Dealpr', 'Thcklr', 'Goodme', 'Clsep', 'Conf', 'Mkmind', 'Loved', 'Intthg', 'Cheer']"
   ]
  },
  {
   "cell_type": "markdown",
   "id": "a4b7ed05",
   "metadata": {},
   "source": [
    "<h3><b>Inferential Statistical Analysis</b></h3>"
   ]
  },
  {
   "cell_type": "markdown",
   "id": "bf56b0d5",
   "metadata": {},
   "source": [
    "<h4><b>Investigation 2: Inferential Analysis for Screen Time (T_we) vs Relaxation (Relx)</b></h4>"
   ]
  },
  {
   "cell_type": "markdown",
   "id": "37134662",
   "metadata": {},
   "source": [
    "<b>Propose:</b> Analyze the relationship between weekend screen time and relaxation levels"
   ]
  },
  {
   "cell_type": "markdown",
   "id": "3f072543",
   "metadata": {},
   "source": [
    "<b>Justify:</b> Relaxation is an important component of well-being. This analysis will help determine if higher weekend screen time impacts relaxation levels."
   ]
  },
  {
   "cell_type": "markdown",
   "id": "af5b2e3c",
   "metadata": {},
   "source": [
    "<b>Key Findings:</b> High screen time users report lower relaxation scores."
   ]
  },
  {
   "cell_type": "markdown",
   "id": "fd5dd44a",
   "metadata": {},
   "source": [
    "<h4><b>Hypothesis Test</b></h4>"
   ]
  },
  {
   "cell_type": "markdown",
   "id": "89378613",
   "metadata": {},
   "source": [
    "<b>H0:</b> There is no significant difference between the means of weekend screen time and optimism."
   ]
  },
  {
   "cell_type": "markdown",
   "id": "c5602afd",
   "metadata": {},
   "source": [
    "<b>H1:</b> There is a significant difference between the means of weekend screen time and optimism."
   ]
  },
  {
   "cell_type": "markdown",
   "id": "dc20c0db",
   "metadata": {},
   "source": [
    "<b>Step 1:</b> T-Test and P-Value"
   ]
  },
  {
   "cell_type": "code",
   "execution_count": 15,
   "id": "645226b7",
   "metadata": {},
   "outputs": [],
   "source": [
    "t_stat_relx, p_value_relx = stats.ttest_ind(merged_data['T_we'], merged_data['Relx'])"
   ]
  },
  {
   "cell_type": "markdown",
   "id": "b20c04ba",
   "metadata": {},
   "source": [
    "<b>Step 2:</b> Z-Score Calculation"
   ]
  },
  {
   "cell_type": "code",
   "execution_count": 16,
   "id": "3d03b7c5",
   "metadata": {},
   "outputs": [],
   "source": [
    "mean_T_we = np.mean(merged_data['T_we'])\n",
    "std_T_we = np.std(merged_data['T_we'], ddof=1)\n",
    "mean_Relx = np.mean(merged_data['Relx'])\n",
    "std_Relx = np.std(merged_data['Relx'], ddof=1)\n",
    "n = len(merged_data)\n",
    "\n",
    "z_score_T_we_relx = (mean_T_we - mean_Relx) / (std_T_we / sqrt(n))"
   ]
  },
  {
   "cell_type": "markdown",
   "id": "ebfe8a81",
   "metadata": {},
   "source": [
    "<b>Step 3:</b> Confidence Interval for T_we"
   ]
  },
  {
   "cell_type": "code",
   "execution_count": 17,
   "id": "ff34cc30",
   "metadata": {},
   "outputs": [],
   "source": [
    "confidence_level = 0.95\n",
    "degrees_freedom = n - 1\n",
    "confidence_interval_relx = stats.t.interval(confidence_level, degrees_freedom, mean_Relx, std_Relx / sqrt(n))"
   ]
  },
  {
   "cell_type": "markdown",
   "id": "ac040371",
   "metadata": {},
   "source": [
    "<h3><b>Execution and Results</b></h3>"
   ]
  },
  {
   "cell_type": "code",
   "execution_count": null,
   "id": "4e459ca4",
   "metadata": {},
   "outputs": [],
   "source": [
    "print(f\"\\nT-Test Results for Screen Time (Weekend) vs Relaxation:\")\n",
    "print(f\"T-Statistic: {t_stat_relx}, P-Value: {p_value_relx}\")\n",
    "print(f\"Z-Score: {z_score_T_we_relx}\")\n",
    "print(f\"95% Confidence Interval for Relaxation: {confidence_interval_relx}\")"
   ]
  },
  {
   "cell_type": "markdown",
   "id": "d350db7e",
   "metadata": {},
   "source": [
    "<h4><b>Interpretation of Hypothesis Test</b></h4>"
   ]
  },
  {
   "cell_type": "code",
   "execution_count": null,
   "id": "e56a34eb",
   "metadata": {},
   "outputs": [],
   "source": [
    "if p_value_relx < 0.05:\n",
    "    print(\"Reject the null hypothesis (H0): There is a significant difference between weekend screen time and relaxation.\")\n",
    "else:\n",
    "    print(\"Fail to reject the null hypothesis (H0): There is no significant difference between weekend screen time and relaxation.\")"
   ]
  },
  {
   "cell_type": "markdown",
   "id": "1c74bbac",
   "metadata": {},
   "source": [
    "<h3><b>Visualization</b></h3>"
   ]
  },
  {
   "cell_type": "code",
   "execution_count": null,
   "id": "60ff3bce",
   "metadata": {},
   "outputs": [],
   "source": [
    "# Visualization: Scatter plot with regression line for T_we vs Relx\n",
    "plt.figure(figsize=(8, 5))\n",
    "sns.regplot(x=merged_data['T_we'], y=merged_data['Relx'], scatter_kws={\"color\": \"green\"}, line_kws={\"color\": \"red\"})\n",
    "plt.title(\"Screen Time (Weekend) vs Relaxation\")\n",
    "plt.xlabel(\"Screen Time (Weekend) in Hours\")\n",
    "plt.ylabel(\"Relaxation Score\")\n",
    "plt.grid(True)\n",
    "plt.tight_layout()\n",
    "plt.show()\n",
    "\n",
    "# Visualization: Lineplot showing Screen Time vs Relaxation trend\n",
    "plt.figure(figsize=(10, 6))\n",
    "sns.lineplot(x=np.arange(len(merged_data)), y=merged_data['T_we'], label=\"Screen Time (Weekend)\", color='blue')\n",
    "sns.lineplot(x=np.arange(len(merged_data)), y=merged_data['Relx'], label=\"Relaxation Score\", color='green')\n",
    "plt.title(\"Lineplot of Screen Time (Weekend) vs Relaxation Score\", fontsize=16)\n",
    "plt.xlabel(\"Index\")\n",
    "plt.ylabel(\"Screen Time / Relaxation\")\n",
    "plt.legend()\n",
    "plt.grid(True)\n",
    "plt.tight_layout()\n",
    "plt.show()"
   ]
  },
  {
   "cell_type": "markdown",
   "id": "a34e9960",
   "metadata": {},
   "source": [
    "<h3><b>Optional Analysis</b></h3>"
   ]
  },
  {
   "cell_type": "markdown",
   "id": "bf65f850",
   "metadata": {},
   "source": [
    "<h4><b>Incorporating Demographic Factors</b></h4>"
   ]
  },
  {
   "cell_type": "markdown",
   "id": "fd4fb9ae",
   "metadata": {},
   "source": [
    "<b>Propose:</b> Explore screen time patterns based on gender and deprivation status"
   ]
  },
  {
   "cell_type": "markdown",
   "id": "b3923358",
   "metadata": {},
   "source": [
    "<b>Justify:</b> Demographic factors may influence screen time behaviors, and this could provide insights into behavior patterns across groups."
   ]
  },
  {
   "cell_type": "markdown",
   "id": "38b1ab3a",
   "metadata": {},
   "source": [
    "<h4><b>Execution and Results</b></h4>"
   ]
  },
  {
   "cell_type": "code",
   "execution_count": null,
   "id": "58c6787f",
   "metadata": {},
   "outputs": [],
   "source": [
    "# For example, we can examine screen time patterns based on gender\n",
    "print(\"\\nAnalyzing screen time based on demographic factor: gender...\")\n",
    "gender_groups = merged_data.groupby('gender')[screen_time_columns].mean()\n",
    "\n",
    "# Display mean screen time by gender\n",
    "print(f\"\\nMean screen time by gender:\")\n",
    "print(gender_groups)"
   ]
  },
  {
   "cell_type": "markdown",
   "id": "45d903c9",
   "metadata": {},
   "source": [
    "<h3><b>Visualization</b></h3>"
   ]
  },
  {
   "cell_type": "code",
   "execution_count": null,
   "id": "b2b42714",
   "metadata": {},
   "outputs": [],
   "source": [
    "# Visualization 1: Bar chart of average screen time by gender\n",
    "print(\"\\nPlotting bar chart of average screen time by gender...\")\n",
    "gender_groups.T.plot(kind='bar', figsize=(10, 6), title=\"Average Screen Time by Gender\")\n",
    "plt.ylabel(\"Average Screen Time (hours)\")\n",
    "plt.xticks(rotation=45)\n",
    "plt.tight_layout()\n",
    "plt.show()\n",
    "\n",
    "# Additional Visualization: Box plot of screen time distribution by gender\n",
    "print(\"\\nPlotting box plot of screen time distribution by gender...\")\n",
    "plt.figure(figsize=(10, 6))\n",
    "for gender in [0, 1]:\n",
    "    plt.boxplot(merged_data[merged_data['gender'] == gender][screen_time_columns].values, \n",
    "                positions=np.arange(len(screen_time_columns)) + gender * 0.4, widths=0.4)\n",
    "plt.title(\"Screen Time Distribution by Gender\")\n",
    "plt.xticks(np.arange(len(screen_time_columns)), screen_time_columns, rotation=45)\n",
    "plt.tight_layout()\n",
    "plt.show()"
   ]
  }
 ],
 "metadata": {
  "kernelspec": {
   "display_name": "Python 3 (ipykernel)",
   "language": "python",
   "name": "python3"
  },
  "language_info": {
   "codemirror_mode": {
    "name": "ipython",
    "version": 3
   },
   "file_extension": ".py",
   "mimetype": "text/x-python",
   "name": "python",
   "nbconvert_exporter": "python",
   "pygments_lexer": "ipython3",
   "version": "3.12.4"
  }
 },
 "nbformat": 4,
 "nbformat_minor": 5
}
