{
 "cells": [
  {
   "cell_type": "markdown",
   "id": "fe5fa126",
   "metadata": {},
   "source": [
    "<h3><b>Load and Merge Datasets</b></h3>"
   ]
  },
  {
   "cell_type": "code",
   "execution_count": 1,
   "id": "215cb1d4",
   "metadata": {},
   "outputs": [],
   "source": [
    "import pandas as pd\n",
    "import numpy as np\n",
    "import matplotlib.pyplot as plt\n",
    "import seaborn as sns\n",
    "from scipy import stats\n",
    "from math import sqrt\n",
    "\n",
    "# Load the datasets\n",
    "dataset1 = pd.read_csv('dataset1.csv')  # Demographic data\n",
    "dataset2 = pd.read_csv('dataset2.csv')  # Screen time data\n",
    "dataset3 = pd.read_csv('dataset3.csv')  # Well-being indicators\n",
    "\n",
    "# Merge dataset1 (demographics), dataset2 (screen time), and dataset3 (well-being) on 'ID'\n",
    "merged_data = pd.merge(pd.merge(dataset1, dataset2, on='ID'), dataset3, on='ID')\n",
    "\n",
    "# Set Seaborn style for more appealing visualizations\n",
    "sns.set(style=\"whitegrid\")\n"
   ]
  },
  {
   "cell_type": "markdown",
   "id": "eca063de",
   "metadata": {},
   "source": [
    "Defining Screen Time Columns"
   ]
  },
  {
   "cell_type": "code",
   "execution_count": 2,
   "id": "18faf7c8",
   "metadata": {},
   "outputs": [],
   "source": [
    "screen_time_columns = ['C_we', 'C_wk', 'G_we', 'G_wk', 'S_we', 'S_wk', 'T_we', 'T_wk']"
   ]
  },
  {
   "cell_type": "markdown",
   "id": "a11cbc4e",
   "metadata": {},
   "source": [
    "<h3><b>Descriptive Statistical Analysis</b></h3>"
   ]
  },
  {
   "cell_type": "markdown",
   "id": "2f1b1f43",
   "metadata": {},
   "source": [
    "<h4><b>Investigation 1: Descriptive Statistics for Digital Screen Time</b></h4>"
   ]
  },
  {
   "cell_type": "markdown",
   "id": "6710ac11",
   "metadata": {},
   "source": [
    "<b>Propose:</b> Analyze and describe the general trends in digital screen time by gender and deprivation status \n"
   ]
  },
  {
   "cell_type": "markdown",
   "id": "7dd38a69",
   "metadata": {},
   "source": [
    "<b>Justify:</b> Understanding screen time patterns based on demographic factors like gender and deprivation status can reveal key insights into user behavior."
   ]
  },
  {
   "cell_type": "markdown",
   "id": "22c358f3",
   "metadata": {},
   "source": [
    "<b>Key Findings:</b> TV has the highest average screen time on both weekdays and weekends."
   ]
  },
  {
   "cell_type": "markdown",
   "id": "74e094cc",
   "metadata": {},
   "source": [
    "<h4><b>Execution and Results</b></h4>"
   ]
  },
  {
   "cell_type": "markdown",
   "id": "4027dac6",
   "metadata": {},
   "source": [
    "Execution based on gender"
   ]
  },
  {
   "cell_type": "code",
   "execution_count": null,
   "id": "8797e8b8",
   "metadata": {},
   "outputs": [],
   "source": [
    "# Analysis based on gender ---\n",
    "print(\"\\nAnalyzing screen time based on demographic factor: gender...\")\n",
    "gender_groups = merged_data.groupby('gender')[screen_time_columns].mean()\n",
    "\n",
    "# Display mean screen time by gender\n",
    "print(f\"\\nMean screen time by gender:\")\n",
    "print(gender_groups)"
   ]
  },
  {
   "cell_type": "markdown",
   "id": "0992e1cb",
   "metadata": {},
   "source": [
    "<h3><b>Visualization</b></h3>"
   ]
  },
  {
   "cell_type": "code",
   "execution_count": null,
   "id": "394f20a6",
   "metadata": {},
   "outputs": [],
   "source": [
    "# Visualization 1: Bar chart of average screen time by gender\n",
    "print(\"\\nPlotting bar chart of average screen time by gender...\")\n",
    "gender_groups.T.plot(kind='bar', figsize=(10, 6), title=\"Average Screen Time by Gender\")\n",
    "plt.ylabel(\"Average Screen Time (hours)\")\n",
    "plt.xticks(rotation=45)\n",
    "plt.tight_layout()\n",
    "plt.show()"
   ]
  },
  {
   "cell_type": "markdown",
   "id": "626b02d6",
   "metadata": {},
   "source": [
    "Execution based on deprivation status"
   ]
  },
  {
   "cell_type": "code",
   "execution_count": null,
   "id": "ea74d4ac",
   "metadata": {},
   "outputs": [],
   "source": [
    "print(\"\\nAnalyzing screen time based on deprivation status...\")\n",
    "deprivation_groups = merged_data.groupby('deprived')[screen_time_columns].mean()\n",
    "\n",
    "# Display mean screen time by deprivation status\n",
    "print(f\"\\nMean screen time by deprivation status:\")\n",
    "print(deprivation_groups)"
   ]
  },
  {
   "cell_type": "markdown",
   "id": "7f4eb2e8",
   "metadata": {},
   "source": [
    "<h3><b>Visualization</b></h3>"
   ]
  },
  {
   "cell_type": "code",
   "execution_count": null,
   "id": "0250cfe3",
   "metadata": {},
   "outputs": [],
   "source": [
    "# Visualization 2: Bar chart of average screen time by deprivation status\n",
    "print(\"\\nPlotting bar chart of average screen time by deprivation status...\")\n",
    "deprivation_groups.T.plot(kind='bar', figsize=(10, 6), title=\"Average Screen Time by Deprivation Status\")\n",
    "plt.ylabel(\"Average Screen Time (hours)\")\n",
    "plt.xticks(rotation=45)\n",
    "plt.tight_layout()\n",
    "plt.show()"
   ]
  },
  {
   "cell_type": "markdown",
   "id": "1081881f",
   "metadata": {},
   "source": [
    "Calculate and display descriptive statistics"
   ]
  },
  {
   "cell_type": "code",
   "execution_count": null,
   "id": "251c9ee8",
   "metadata": {},
   "outputs": [],
   "source": [
    "screen_time_stats = {}\n",
    "for col in screen_time_columns:\n",
    "    print(f\"Calculating statistics for {col}:\")\n",
    "    \n",
    "    # Mean\n",
    "    mean_value = np.mean(merged_data[col])\n",
    "    print(f\"  Mean: {mean_value:.2f} hours\")\n",
    "    \n",
    "    # Median\n",
    "    median_value = np.median(merged_data[col])\n",
    "    print(f\"  Median: {median_value:.2f} hours\")\n",
    "    \n",
    "    # Standard Deviation\n",
    "    std_value = np.std(merged_data[col])\n",
    "    print(f\"  Standard Deviation: {std_value:.2f}\")\n",
    "    \n",
    "    # Interquartile Range (IQR)\n",
    "    iqr_value = np.percentile(merged_data[col], 75) - np.percentile(merged_data[col], 25)\n",
    "    print(f\"  Interquartile Range (IQR): {iqr_value:.2f}\\n\")\n",
    "    \n",
    "    # Store stats in dictionary\n",
    "    screen_time_stats[col] = {\n",
    "        'mean': mean_value,\n",
    "        'median': median_value,\n",
    "        'std': std_value,\n",
    "        'iqr': iqr_value\n",
    "    }\n",
    "  "
   ]
  },
  {
   "cell_type": "markdown",
   "id": "7706f60b",
   "metadata": {},
   "source": [
    "<h3><b>Visualization</b></h3>"
   ]
  },
  {
   "cell_type": "code",
   "execution_count": null,
   "id": "eb3cd25c",
   "metadata": {},
   "outputs": [],
   "source": [
    "# Visualization 3: Pairplot for Screen Time\n",
    "print(\"Creating pairplot for screen time data...\")\n",
    "plt.figure(figsize=(10, 6))\n",
    "sns.pairplot(merged_data[screen_time_columns], diag_kind=\"kde\", corner=True)\n",
    "plt.suptitle(\"Pairplot of Screen Time Activities (Weekday and Weekend)\", y=1.02, fontsize=16)\n",
    "plt.show()"
   ]
  }
 ],
 "metadata": {
  "kernelspec": {
   "display_name": "Python 3 (ipykernel)",
   "language": "python",
   "name": "python3"
  },
  "language_info": {
   "codemirror_mode": {
    "name": "ipython",
    "version": 3
   },
   "file_extension": ".py",
   "mimetype": "text/x-python",
   "name": "python",
   "nbconvert_exporter": "python",
   "pygments_lexer": "ipython3",
   "version": "3.12.4"
  }
 },
 "nbformat": 4,
 "nbformat_minor": 5
}
