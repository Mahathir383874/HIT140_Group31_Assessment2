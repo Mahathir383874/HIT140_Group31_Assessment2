{
 "cells": [
  {
   "cell_type": "markdown",
   "id": "fe5fa126",
   "metadata": {},
   "source": [
    "<h3><b>Load and Merge Datasets</b></h3>"
   ]
  },
  {
   "cell_type": "code",
   "execution_count": 7,
   "id": "215cb1d4",
   "metadata": {},
   "outputs": [],
   "source": [
    "import pandas as pd\n",
    "import numpy as np\n",
    "import matplotlib.pyplot as plt\n",
    "import seaborn as sns\n",
    "from scipy import stats\n",
    "from math import sqrt\n",
    "\n",
    "# Load the datasets\n",
    "dataset1 = pd.read_csv('dataset1.csv')  # Demographic data\n",
    "dataset2 = pd.read_csv('dataset2.csv')  # Screen time data\n",
    "dataset3 = pd.read_csv('dataset3.csv')  # Well-being indicators\n",
    "\n",
    "# Merge dataset1 (demographics), dataset2 (screen time), and dataset3 (well-being) on 'ID'\n",
    "merged_data = pd.merge(pd.merge(dataset1, dataset2, on='ID'), dataset3, on='ID')\n",
    "\n",
    "# Set Seaborn style for more appealing visualizations\n",
    "sns.set(style=\"whitegrid\")\n"
   ]
  },
  {
   "cell_type": "markdown",
   "id": "eca063de",
   "metadata": {},
   "source": [
    "Defining Screen Time Columns"
   ]
  },
  {
   "cell_type": "code",
   "execution_count": 8,
   "id": "18faf7c8",
   "metadata": {},
   "outputs": [],
   "source": [
    "screen_time_columns = ['C_we', 'C_wk', 'G_we', 'G_wk', 'S_we', 'S_wk', 'T_we', 'T_wk']"
   ]
  },
  {
   "cell_type": "markdown",
   "id": "a4b7ed05",
   "metadata": {},
   "source": [
    "<h3><b>Inferential Statistical Analysis</b></h3>"
   ]
  },
  {
   "cell_type": "markdown",
   "id": "c473fcd0",
   "metadata": {},
   "source": [
    "<h4><b>Investigation 1: Inferential Analysis for Screen Time (T_we) vs Optimism (Optm)</b></h4>"
   ]
  },
  {
   "cell_type": "markdown",
   "id": "0a238526",
   "metadata": {},
   "source": [
    "<b>Propose:</b> Investigate the relationship between screen time on weekends and optimism levels"
   ]
  },
  {
   "cell_type": "markdown",
   "id": "748879a8",
   "metadata": {},
   "source": [
    "<b>Justify:</b> This analysis can determine if higher screen time correlates with lower optimism levels, providing insight into the impact of screen time on mental well-being."
   ]
  },
  {
   "cell_type": "markdown",
   "id": "a06249a7",
   "metadata": {},
   "source": [
    "<b>Key Findings:</b> Significant difference in optimism between high and low weekend screen time users."
   ]
  },
  {
   "cell_type": "markdown",
   "id": "e1b55021",
   "metadata": {},
   "source": [
    "<h4><b>Hypothesis Test</b></h4>"
   ]
  },
  {
   "cell_type": "markdown",
   "id": "18a0d0ef",
   "metadata": {},
   "source": [
    "<b>H0:</b> There is no significant difference between the means of weekend screen time and optimism."
   ]
  },
  {
   "cell_type": "markdown",
   "id": "e4852781",
   "metadata": {},
   "source": [
    "<b>H1:</b> There is a significant difference between the means of weekend screen time and optimism."
   ]
  },
  {
   "cell_type": "markdown",
   "id": "f044be7d",
   "metadata": {},
   "source": [
    "<b>Step 1:</b> T-Test and P-Value"
   ]
  },
  {
   "cell_type": "code",
   "execution_count": 9,
   "id": "79aab09d",
   "metadata": {},
   "outputs": [],
   "source": [
    "t_stat_optm, p_value_optm = stats.ttest_ind(merged_data['T_we'], merged_data['Optm'])"
   ]
  },
  {
   "cell_type": "markdown",
   "id": "628e4379",
   "metadata": {},
   "source": [
    "<b>Step 2:</b> Z-Score Calculation"
   ]
  },
  {
   "cell_type": "code",
   "execution_count": 10,
   "id": "a070b733",
   "metadata": {},
   "outputs": [],
   "source": [
    "mean_T_we = np.mean(merged_data['T_we'])\n",
    "std_T_we = np.std(merged_data['T_we'], ddof=1)\n",
    "mean_Optm = np.mean(merged_data['Optm'])\n",
    "std_Optm = np.std(merged_data['Optm'], ddof=1)\n",
    "n = len(merged_data)\n",
    "\n",
    "z_score_T_we_optm = (mean_T_we - mean_Optm) / (std_T_we / sqrt(n))"
   ]
  },
  {
   "cell_type": "markdown",
   "id": "5bea3600",
   "metadata": {},
   "source": [
    "<b>Step 3:</b> Confidence Interval for T_we"
   ]
  },
  {
   "cell_type": "code",
   "execution_count": 11,
   "id": "bc46d9d7",
   "metadata": {},
   "outputs": [],
   "source": [
    "confidence_level = 0.95\n",
    "degrees_freedom = n - 1\n",
    "confidence_interval_T_we = stats.t.interval(confidence_level, degrees_freedom, mean_T_we, std_T_we / sqrt(n))"
   ]
  },
  {
   "cell_type": "markdown",
   "id": "55cfd10b",
   "metadata": {},
   "source": [
    "<h3><b>Execution and Results</b></h3>"
   ]
  },
  {
   "cell_type": "code",
   "execution_count": null,
   "id": "fabccb18",
   "metadata": {},
   "outputs": [],
   "source": [
    "print(f\"\\nT-Test Results for Screen Time (Weekend) vs Optimism:\")\n",
    "print(f\"T-Statistic: {t_stat_optm}, P-Value: {p_value_optm}\")\n",
    "print(f\"Z-Score: {z_score_T_we_optm}\")\n",
    "print(f\"95% Confidence Interval for Screen Time (Weekend): {confidence_interval_T_we}\")"
   ]
  },
  {
   "cell_type": "markdown",
   "id": "1a7eae10",
   "metadata": {},
   "source": [
    "<h4><b>Interpretation of Hypothesis Test</b></h4>"
   ]
  },
  {
   "cell_type": "code",
   "execution_count": null,
   "id": "19dba246",
   "metadata": {},
   "outputs": [],
   "source": [
    "if p_value_optm < 0.05:\n",
    "    print(\"Reject the null hypothesis (H0): There is a significant difference between weekend screen time and optimism.\")\n",
    "else:\n",
    "    print(\"Fail to reject the null hypothesis (H0): There is no significant difference between weekend screen time and optimism.\")"
   ]
  },
  {
   "cell_type": "markdown",
   "id": "f7d11dc2",
   "metadata": {},
   "source": [
    "<h3><b>Visualization</b></h3>"
   ]
  },
  {
   "cell_type": "code",
   "execution_count": null,
   "id": "0ab8bc8b",
   "metadata": {},
   "outputs": [],
   "source": [
    "# Visualization: Scatter plot with regression line for T_we vs Optm\n",
    "plt.figure(figsize=(8, 5))\n",
    "sns.regplot(x=merged_data['T_we'], y=merged_data['Optm'], scatter_kws={\"color\": \"blue\"}, line_kws={\"color\": \"red\"})\n",
    "plt.title(\"Screen Time (Weekend) vs Optimism\")\n",
    "plt.xlabel(\"Screen Time (Weekend) in Hours\")\n",
    "plt.ylabel(\"Optimism Score\")\n",
    "plt.grid(True)\n",
    "plt.tight_layout()\n",
    "plt.show()"
   ]
  }
 ],
 "metadata": {
  "kernelspec": {
   "display_name": "Python 3 (ipykernel)",
   "language": "python",
   "name": "python3"
  },
  "language_info": {
   "codemirror_mode": {
    "name": "ipython",
    "version": 3
   },
   "file_extension": ".py",
   "mimetype": "text/x-python",
   "name": "python",
   "nbconvert_exporter": "python",
   "pygments_lexer": "ipython3",
   "version": "3.12.4"
  }
 },
 "nbformat": 4,
 "nbformat_minor": 5
}
